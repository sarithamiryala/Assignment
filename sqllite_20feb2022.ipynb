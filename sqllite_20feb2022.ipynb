{
 "cells": [
  {
   "cell_type": "code",
   "execution_count": 1,
   "id": "2c4ffbd3",
   "metadata": {},
   "outputs": [],
   "source": [
    "import sqlite3"
   ]
  },
  {
   "cell_type": "code",
   "execution_count": 2,
   "id": "db65c942",
   "metadata": {},
   "outputs": [],
   "source": [
    "db = sqlite3.connect(\"ineuron.db\")"
   ]
  },
  {
   "cell_type": "code",
   "execution_count": 14,
   "id": "a6dae660",
   "metadata": {
    "scrolled": true
   },
   "outputs": [
    {
     "name": "stdout",
     "output_type": "stream",
     "text": [
      " Volume in drive C is Windows\n",
      " Volume Serial Number is 6A64-9A68\n",
      "\n",
      " Directory of C:\\Users\\SAMARTH\\Desktop\\phd\\ineuron\\live class\n",
      "\n",
      "20-02-2022  10:39    <DIR>          .\n",
      "19-02-2022  10:24    <DIR>          ..\n",
      "20-02-2022  10:32    <DIR>          .ipynb_checkpoints\n",
      "23-01-2022  12:28    <DIR>          __pycache__\n",
      "19-12-2021  12:47            10,318 19dec_forloop.ipynb\n",
      "21-12-2021  21:46            12,839 21dec_dic.ipynb\n",
      "22-01-2022  12:04             4,011 22jan2022_modules.ipynb\n",
      "23-01-2022  12:49             6,246 23jan_2022.ipynb\n",
      "23-12-2021  21:48            34,327 23rddec2021.ipynb\n",
      "08-01-2022  11:36             7,427 8th_functionsjan2022.ipynb\n",
      "09-01-2022  13:02            58,801 9thjan2022.ipynb\n",
      "06-01-2022  14:04           132,119 Assignment_functions.ipynb\n",
      "12-02-2022  20:33               588 Assignment21.ipynb\n",
      "16-01-2022  11:47            15,637 Exception handling.ipynb\n",
      "01-02-2022  04:50                 0 filet.log\n",
      "20-12-2021  21:54            13,633 for&while loop_20thdec.ipynb\n",
      "06-02-2022  19:19            11,903 glass.txt\n",
      "20-02-2022  10:37             8,192 ineuron.db\n",
      "20-02-2022  10:39                 0 ineuron.db-journal\n",
      "16-01-2022  12:52            18,333 logging.ipynb\n",
      "01-02-2022  05:38             1,113 loggingexm.ipynb\n",
      "26-12-2021  22:52         4,617,744 MergedFile.pdf\n",
      "22-01-2022  10:28                 0 modu.py\n",
      "22-01-2022  11:40            20,174 module_22jan2022.ipynb\n",
      "19-02-2022  11:50            40,325 mongodb_15feb_class1.ipynb\n",
      "19-02-2022  11:30            26,721 mongodb_19feb2022_class2.ipynb\n",
      "15-02-2022  13:02            28,757 mongodb_feb13.ipynb\n",
      "22-01-2022  11:37               231 my_module.py\n",
      "23-01-2022  12:27               579 mydict.py\n",
      "17-02-2022  14:47           108,968 mysql_class1&2_5&6feb.ipynb\n",
      "27-01-2022  13:03            13,850 oop_22&23_2022.ipynb\n",
      "01-02-2022  05:38            31,379 oops_polymorishm.ipynb\n",
      "22-01-2022  12:16             1,054 OOPsclass1_jan_22.ipynb\n",
      "14-12-2021  20:11            25,836 resume.docx\n",
      "09-02-2022  06:56            80,783 SQL_6thfeb2022.ipynb\n",
      "20-02-2022  10:39             6,575 sqllite_20feb2022.ipynb\n",
      "16-01-2022  12:38               497 test.log\n",
      "22-01-2022  10:47               293 test.py\n",
      "22-01-2022  10:35                36 test.py.bak\n",
      "16-01-2022  10:56                22 test1.txt\n",
      "16-01-2022  12:48               282 test2.log\n",
      "22-01-2022  10:31                 0 test2.py\n",
      "09-01-2022  12:02                37 test2.txt\n",
      "16-01-2022  11:06                 0 test43\n",
      "09-01-2022  11:58               130 text.txt\n",
      "19-12-2021  17:27            16,232 tuples_18dec2021.ipynb\n",
      "26-12-2021  07:19                72 Untitled.ipynb\n",
      "26-12-2021  07:24             5,323 Untitled1.ipynb\n",
      "26-12-2021  07:35             2,241 Untitled2.ipynb\n",
      "26-12-2021  07:45             1,669 Untitled3.ipynb\n",
      "26-12-2021  18:42             9,118 Untitled4.ipynb\n",
      "26-12-2021  18:24             1,560 Untitled5.ipynb\n",
      "30-12-2021  11:52             2,938 Untitled6.ipynb\n",
      "30-12-2021  13:53             1,415 Untitled7.ipynb\n",
      "04-01-2022  15:46             3,086 Untitled8.ipynb\n",
      "08-02-2022  14:51               588 Untitled9.ipynb\n",
      "              52 File(s)      5,384,002 bytes\n",
      "               4 Dir(s)  27,889,975,296 bytes free\n"
     ]
    }
   ],
   "source": [
    "ls"
   ]
  },
  {
   "cell_type": "code",
   "execution_count": 4,
   "id": "0dcb0cf9",
   "metadata": {},
   "outputs": [],
   "source": [
    "c =db.cursor()"
   ]
  },
  {
   "cell_type": "code",
   "execution_count": 5,
   "id": "d77838df",
   "metadata": {},
   "outputs": [
    {
     "data": {
      "text/plain": [
       "<sqlite3.Cursor at 0x24ba8f1ba40>"
      ]
     },
     "execution_count": 5,
     "metadata": {},
     "output_type": "execute_result"
    }
   ],
   "source": [
    "c.execute('create table fsds(name text,batchid  int,marks real)')"
   ]
  },
  {
   "cell_type": "code",
   "execution_count": 23,
   "id": "02f0bc27",
   "metadata": {},
   "outputs": [
    {
     "ename": "ProgrammingError",
     "evalue": "Cannot operate on a closed database.",
     "output_type": "error",
     "traceback": [
      "\u001b[1;31m---------------------------------------------------------------------------\u001b[0m",
      "\u001b[1;31mProgrammingError\u001b[0m                          Traceback (most recent call last)",
      "\u001b[1;32m~\\AppData\\Local\\Temp/ipykernel_6356/2665546680.py\u001b[0m in \u001b[0;36m<module>\u001b[1;34m\u001b[0m\n\u001b[1;32m----> 1\u001b[1;33m \u001b[0mc\u001b[0m\u001b[1;33m.\u001b[0m\u001b[0mexecute\u001b[0m\u001b[1;33m(\u001b[0m\u001b[1;34m\"insert into fsds values('sudh',37766,5988.8)\"\u001b[0m\u001b[1;33m)\u001b[0m\u001b[1;33m\u001b[0m\u001b[1;33m\u001b[0m\u001b[0m\n\u001b[0m",
      "\u001b[1;31mProgrammingError\u001b[0m: Cannot operate on a closed database."
     ]
    }
   ],
   "source": [
    "c.execute(\"insert into fsds values('sudh',37766,5988.8)\")"
   ]
  },
  {
   "cell_type": "code",
   "execution_count": 31,
   "id": "0b577cd2",
   "metadata": {},
   "outputs": [
    {
     "data": {
      "text/plain": [
       "<sqlite3.Cursor at 0x24ba823a180>"
      ]
     },
     "execution_count": 31,
     "metadata": {},
     "output_type": "execute_result"
    }
   ],
   "source": [
    "c.execute(\"insert into fsds values('sudh',37766,5988.8)\")\n",
    "c.execute(\"insert into fsds values('sudh',37766,5988.8)\")\n",
    "c.execute(\"insert into fsds values('sudh',37766,5988.8)\")\n",
    "c.execute(\"insert into fsds values('sudh',37766,5988.8)\")\n",
    "c.execute(\"insert into fsds values('sudh',37766,5988.8)\")\n",
    "c.execute(\"insert into fsds values('sudh',37766,5988.8)\")\n",
    "c.execute(\"insert into fsds values('sudh',37766,5988.8)\")\n",
    "c.execute(\"insert into fsds values('sudh',37766,5988.8)\")\n",
    "c.execute(\"insert into fsds values('sudh',37766,5988.8)\")\n",
    "c.execute(\"insert into fsds values('sudh',37766,5988.8)\")"
   ]
  },
  {
   "cell_type": "code",
   "execution_count": 19,
   "id": "b7678d31",
   "metadata": {},
   "outputs": [],
   "source": [
    "data =c.execute(\"select *from fsds\")"
   ]
  },
  {
   "cell_type": "code",
   "execution_count": 20,
   "id": "ed2ac499",
   "metadata": {},
   "outputs": [
    {
     "name": "stdout",
     "output_type": "stream",
     "text": [
      "('sudh', 37766, 5988.8)\n",
      "('sudh', 37766, 5988.8)\n",
      "('sudh', 37766, 5988.8)\n",
      "('sudh', 37766, 5988.8)\n",
      "('sudh', 37766, 5988.8)\n",
      "('sudh', 37766, 5988.8)\n",
      "('sudh', 37766, 5988.8)\n",
      "('sudh', 37766, 5988.8)\n",
      "('sudh', 37766, 5988.8)\n",
      "('sudh', 37766, 5988.8)\n",
      "('sudh', 37766, 5988.8)\n",
      "('sudh', 37766, 5988.8)\n",
      "('sudh', 37766, 5988.8)\n",
      "('sudh', 37766, 5988.8)\n",
      "('sudh', 37766, 5988.8)\n",
      "('sudh', 37766, 5988.8)\n",
      "('sudh', 37766, 5988.8)\n"
     ]
    }
   ],
   "source": [
    "for i in data:\n",
    "    print(i)"
   ]
  },
  {
   "cell_type": "code",
   "execution_count": 21,
   "id": "53d54f19",
   "metadata": {},
   "outputs": [],
   "source": [
    "db.close()"
   ]
  },
  {
   "cell_type": "code",
   "execution_count": 27,
   "id": "c0f241c3",
   "metadata": {},
   "outputs": [],
   "source": [
    "db =sqlite3.connect(\"ineuron.db\")"
   ]
  },
  {
   "cell_type": "code",
   "execution_count": 28,
   "id": "8e6fb674",
   "metadata": {},
   "outputs": [],
   "source": [
    "c =db.cursor()"
   ]
  },
  {
   "cell_type": "code",
   "execution_count": 34,
   "id": "050c314f",
   "metadata": {},
   "outputs": [],
   "source": [
    "data = c.execute(\"select *from fsds where marks > 400\")"
   ]
  },
  {
   "cell_type": "code",
   "execution_count": 35,
   "id": "dbefea7f",
   "metadata": {},
   "outputs": [
    {
     "name": "stdout",
     "output_type": "stream",
     "text": [
      "('sudh', 37766, 5988.8)\n",
      "('sudh', 37766, 5988.8)\n",
      "('sudh', 37766, 5988.8)\n",
      "('sudh', 37766, 5988.8)\n",
      "('sudh', 37766, 5988.8)\n",
      "('sudh', 37766, 5988.8)\n",
      "('sudh', 37766, 5988.8)\n",
      "('sudh', 37766, 5988.8)\n",
      "('sudh', 37766, 5988.8)\n",
      "('sudh', 37766, 5988.8)\n"
     ]
    }
   ],
   "source": [
    "for i in data:\n",
    "    print(i)"
   ]
  },
  {
   "cell_type": "code",
   "execution_count": 32,
   "id": "a42acaee",
   "metadata": {},
   "outputs": [],
   "source": [
    "db.commit()"
   ]
  },
  {
   "cell_type": "code",
   "execution_count": 36,
   "id": "3a1b01ea",
   "metadata": {},
   "outputs": [
    {
     "data": {
      "text/plain": [
       "<sqlite3.Cursor at 0x24ba823a180>"
      ]
     },
     "execution_count": 36,
     "metadata": {},
     "output_type": "execute_result"
    }
   ],
   "source": [
    "c.execute(\"select name, marks from fsds\")"
   ]
  },
  {
   "cell_type": "code",
   "execution_count": 37,
   "id": "14b04a96",
   "metadata": {},
   "outputs": [
    {
     "name": "stdout",
     "output_type": "stream",
     "text": [
      "('sudh', 5988.8)\n",
      "('sudh', 5988.8)\n",
      "('sudh', 5988.8)\n",
      "('sudh', 5988.8)\n",
      "('sudh', 5988.8)\n",
      "('sudh', 5988.8)\n",
      "('sudh', 5988.8)\n",
      "('sudh', 5988.8)\n",
      "('sudh', 5988.8)\n",
      "('sudh', 5988.8)\n"
     ]
    }
   ],
   "source": [
    "for i in data:\n",
    "    print(i)"
   ]
  },
  {
   "cell_type": "code",
   "execution_count": 61,
   "id": "f2a032cf",
   "metadata": {},
   "outputs": [
    {
     "data": {
      "text/plain": [
       "<sqlite3.Cursor at 0x24ba8242ab0>"
      ]
     },
     "execution_count": 61,
     "metadata": {},
     "output_type": "execute_result"
    }
   ],
   "source": [
    "c.execute(\"create table person_table(name text, emailid text,age int,salary real)\")"
   ]
  },
  {
   "cell_type": "code",
   "execution_count": 68,
   "id": "d03f8783",
   "metadata": {},
   "outputs": [
    {
     "data": {
      "text/plain": [
       "<sqlite3.Cursor at 0x24ba8242ab0>"
      ]
     },
     "execution_count": 68,
     "metadata": {},
     "output_type": "execute_result"
    }
   ],
   "source": [
    "c.execute(\"insert into person_table values('saritha','saritha@gmail.com',28,99288)\")\n",
    "c.execute(\"insert into person_table values('samarth','samarth@gmail.com',10,95568)\")\n",
    "c.execute(\"insert into person_table values('shailesh','shailesh@gmail.com',28,9928882)\")"
   ]
  },
  {
   "cell_type": "code",
   "execution_count": 64,
   "id": "d505027d",
   "metadata": {},
   "outputs": [],
   "source": [
    "data = c.execute(\"select *from person_table\")"
   ]
  },
  {
   "cell_type": "code",
   "execution_count": 43,
   "id": "fcfa0e81",
   "metadata": {},
   "outputs": [
    {
     "name": "stdout",
     "output_type": "stream",
     "text": [
      "('sari', 'sjhj@gmail.com', 28, 99288.0)\n",
      "('samarth', 'samarth@gmail.com', 10, 95568.0)\n",
      "('shailesh', 'shailesh@gmail.com', 28, 9928882.0)\n"
     ]
    }
   ],
   "source": [
    "for i in data:\n",
    "    print(i)"
   ]
  },
  {
   "cell_type": "code",
   "execution_count": 72,
   "id": "f34e176c",
   "metadata": {},
   "outputs": [],
   "source": [
    "db.commit()"
   ]
  },
  {
   "cell_type": "code",
   "execution_count": 46,
   "id": "2904e7b4",
   "metadata": {},
   "outputs": [],
   "source": [
    "db.close()"
   ]
  },
  {
   "cell_type": "code",
   "execution_count": 48,
   "id": "0e2c63ca",
   "metadata": {},
   "outputs": [],
   "source": [
    "db = sqlite3.connect('ineuron.db')"
   ]
  },
  {
   "cell_type": "code",
   "execution_count": 49,
   "id": "6e51616d",
   "metadata": {},
   "outputs": [],
   "source": [
    "c = db.cursor()"
   ]
  },
  {
   "cell_type": "code",
   "execution_count": 53,
   "id": "ca9a45d7",
   "metadata": {},
   "outputs": [
    {
     "data": {
      "text/plain": [
       "<sqlite3.Cursor at 0x24ba8242570>"
      ]
     },
     "execution_count": 53,
     "metadata": {},
     "output_type": "execute_result"
    }
   ],
   "source": [
    "c.execute(\"drop table fsds\")"
   ]
  },
  {
   "cell_type": "code",
   "execution_count": 59,
   "id": "ae5f20ec",
   "metadata": {},
   "outputs": [
    {
     "ename": "OperationalError",
     "evalue": "no such table: person",
     "output_type": "error",
     "traceback": [
      "\u001b[1;31m---------------------------------------------------------------------------\u001b[0m",
      "\u001b[1;31mOperationalError\u001b[0m                          Traceback (most recent call last)",
      "\u001b[1;32m~\\AppData\\Local\\Temp/ipykernel_6356/83368053.py\u001b[0m in \u001b[0;36m<module>\u001b[1;34m\u001b[0m\n\u001b[1;32m----> 1\u001b[1;33m \u001b[0mc\u001b[0m\u001b[1;33m.\u001b[0m\u001b[0mexecute\u001b[0m\u001b[1;33m(\u001b[0m\u001b[1;34m\"select *from person\"\u001b[0m\u001b[1;33m)\u001b[0m\u001b[1;33m\u001b[0m\u001b[1;33m\u001b[0m\u001b[0m\n\u001b[0m",
      "\u001b[1;31mOperationalError\u001b[0m: no such table: person"
     ]
    }
   ],
   "source": [
    "c.execute(\"select *from person\")"
   ]
  },
  {
   "cell_type": "code",
   "execution_count": 55,
   "id": "27dcde50",
   "metadata": {},
   "outputs": [],
   "source": [
    "db.close()"
   ]
  },
  {
   "cell_type": "code",
   "execution_count": 56,
   "id": "39db8be5",
   "metadata": {},
   "outputs": [],
   "source": [
    "db = sqlite3.connect('person.db')"
   ]
  },
  {
   "cell_type": "code",
   "execution_count": 57,
   "id": "66a81ee1",
   "metadata": {},
   "outputs": [],
   "source": [
    "c = db.cursor()"
   ]
  },
  {
   "cell_type": "code",
   "execution_count": 69,
   "id": "d62838d7",
   "metadata": {},
   "outputs": [],
   "source": [
    "data = c.execute(\"select *from person_table limit 2\")"
   ]
  },
  {
   "cell_type": "code",
   "execution_count": null,
   "id": "f1d26751",
   "metadata": {},
   "outputs": [],
   "source": []
  },
  {
   "cell_type": "code",
   "execution_count": 71,
   "id": "61680eee",
   "metadata": {},
   "outputs": [
    {
     "name": "stdout",
     "output_type": "stream",
     "text": [
      "('sari', 'sjhj@gmail.com', 28, 99288.0)\n",
      "('samarth', 'samarth@gmail.com', 10, 95568.0)\n"
     ]
    }
   ],
   "source": [
    "for i in data:\n",
    "    print(i)"
   ]
  },
  {
   "cell_type": "code",
   "execution_count": 73,
   "id": "1d8d8195",
   "metadata": {},
   "outputs": [],
   "source": [
    "#join operation"
   ]
  },
  {
   "cell_type": "code",
   "execution_count": 74,
   "id": "3c0c63b4",
   "metadata": {},
   "outputs": [],
   "source": [
    "db.close()"
   ]
  },
  {
   "cell_type": "code",
   "execution_count": 75,
   "id": "7d07781d",
   "metadata": {},
   "outputs": [],
   "source": [
    "db =sqlite3.connect(\"joindb.db\")"
   ]
  },
  {
   "cell_type": "code",
   "execution_count": 76,
   "id": "9edfe7c5",
   "metadata": {},
   "outputs": [],
   "source": [
    "c = db.cursor()"
   ]
  },
  {
   "cell_type": "code",
   "execution_count": 77,
   "id": "fb4eb066",
   "metadata": {},
   "outputs": [
    {
     "data": {
      "text/plain": [
       "<sqlite3.Cursor at 0x24ba8242a40>"
      ]
     },
     "execution_count": 77,
     "metadata": {},
     "output_type": "execute_result"
    }
   ],
   "source": [
    "c.execute(\"create table student(student_id int,student_name text, student_mailid text,marks int)\")"
   ]
  },
  {
   "cell_type": "code",
   "execution_count": 80,
   "id": "3ef9e3b5",
   "metadata": {},
   "outputs": [
    {
     "data": {
      "text/plain": [
       "<sqlite3.Cursor at 0x24ba8242a40>"
      ]
     },
     "execution_count": 80,
     "metadata": {},
     "output_type": "execute_result"
    }
   ],
   "source": [
    "c.execute(\"create table address(student_id , pincode int, location text, nearby text, phone_no int)\")"
   ]
  },
  {
   "cell_type": "code",
   "execution_count": 81,
   "id": "8bcf9152",
   "metadata": {},
   "outputs": [
    {
     "data": {
      "text/plain": [
       "<sqlite3.Cursor at 0x24ba8242a40>"
      ]
     },
     "execution_count": 81,
     "metadata": {},
     "output_type": "execute_result"
    }
   ],
   "source": [
    "c.execute(\"insert into student values(234, 'saritha', 'sari@gmail.com',234) \")"
   ]
  },
  {
   "cell_type": "code",
   "execution_count": 83,
   "id": "96aa449c",
   "metadata": {},
   "outputs": [
    {
     "data": {
      "text/plain": [
       "<sqlite3.Cursor at 0x24ba8242a40>"
      ]
     },
     "execution_count": 83,
     "metadata": {},
     "output_type": "execute_result"
    }
   ],
   "source": [
    "c.execute(\"insert into student values(234, 'saritha', 'sari@gmail.com',234) \")\n",
    "c.execute(\"insert into student values(235, 'saritha', 'sari@gmail.com',234) \")\n",
    "c.execute(\"insert into student values(236, 'saritha', 'sari@gmail.com',234) \")\n",
    "c.execute(\"insert into student values(237, 'saritha', 'sari@gmail.com',234) \")\n",
    "c.execute(\"insert into student values(238, 'saritha', 'sari@gmail.com',234) \")\n",
    "c.execute(\"insert into student values(239, 'saritha', 'sari@gmail.com',234) \")\n",
    "c.execute(\"insert into student values(240, 'saritha', 'sari@gmail.com',234) \")\n",
    "c.execute(\"insert into student values(241, 'saritha', 'sari@gmail.com',234) \")\n"
   ]
  },
  {
   "cell_type": "code",
   "execution_count": 84,
   "id": "af54d9ac",
   "metadata": {},
   "outputs": [
    {
     "data": {
      "text/plain": [
       "<sqlite3.Cursor at 0x24ba8242a40>"
      ]
     },
     "execution_count": 84,
     "metadata": {},
     "output_type": "execute_result"
    }
   ],
   "source": [
    "c.execute(\"insert into address values(235, 560034,'whitefield','ineuron office', 887277202)\")"
   ]
  },
  {
   "cell_type": "code",
   "execution_count": 85,
   "id": "cfddefb3",
   "metadata": {},
   "outputs": [
    {
     "data": {
      "text/plain": [
       "<sqlite3.Cursor at 0x24ba8242a40>"
      ]
     },
     "execution_count": 85,
     "metadata": {},
     "output_type": "execute_result"
    }
   ],
   "source": [
    "c.execute(\"insert into address values(235, 560034,'whitefield','ineuron office', 887277202)\")\n",
    "c.execute(\"insert into address values(236, 560034,'whitefield','ineuron office', 887277202)\")\n",
    "c.execute(\"insert into address values(237, 560034,'whitefield','ineuron office', 887277202)\")\n",
    "c.execute(\"insert into address values(238, 560034,'whitefield','ineuron office', 887277202)\")\n",
    "c.execute(\"insert into address values(238, 560034,'whitefield','ineuron office', 887277202)\")\n",
    "c.execute(\"insert into address values(239, 560034,'whitefield','ineuron office', 887277202)\")\n",
    "c.execute(\"insert into address values(240, 560034,'whitefield','ineuron office', 887277202)\")\n",
    "c.execute(\"insert into address values(241, 560034,'whitefield','ineuron office', 887277202)\")\n"
   ]
  },
  {
   "cell_type": "code",
   "execution_count": 86,
   "id": "5e37bfff",
   "metadata": {},
   "outputs": [],
   "source": [
    "data = c.execute(\"select *from address\")"
   ]
  },
  {
   "cell_type": "code",
   "execution_count": 87,
   "id": "1d1d0ffc",
   "metadata": {},
   "outputs": [
    {
     "name": "stdout",
     "output_type": "stream",
     "text": [
      "(235, 560034, 'whitefield', 'ineuron office', 887277202)\n",
      "(235, 560034, 'whitefield', 'ineuron office', 887277202)\n",
      "(236, 560034, 'whitefield', 'ineuron office', 887277202)\n",
      "(237, 560034, 'whitefield', 'ineuron office', 887277202)\n",
      "(238, 560034, 'whitefield', 'ineuron office', 887277202)\n",
      "(238, 560034, 'whitefield', 'ineuron office', 887277202)\n",
      "(239, 560034, 'whitefield', 'ineuron office', 887277202)\n",
      "(240, 560034, 'whitefield', 'ineuron office', 887277202)\n",
      "(241, 560034, 'whitefield', 'ineuron office', 887277202)\n"
     ]
    }
   ],
   "source": [
    "for i in data:\n",
    "    print(i)"
   ]
  },
  {
   "cell_type": "code",
   "execution_count": 89,
   "id": "8b5e588f",
   "metadata": {},
   "outputs": [
    {
     "name": "stdout",
     "output_type": "stream",
     "text": [
      "(234, 'saritha', 'sari@gmail.com', 234)\n",
      "(234, 'saritha', 'sari@gmail.com', 234)\n",
      "(234, 'saritha', 'sari@gmail.com', 234)\n",
      "(234, 'saritha', 'sari@gmail.com', 234)\n",
      "(234, 'saritha', 'sari@gmail.com', 234)\n",
      "(234, 'saritha', 'sari@gmail.com', 234)\n",
      "(234, 'saritha', 'sari@gmail.com', 234)\n",
      "(234, 'saritha', 'sari@gmail.com', 234)\n",
      "(234, 'saritha', 'sari@gmail.com', 234)\n",
      "(234, 'saritha', 'sari@gmail.com', 234)\n",
      "(235, 'saritha', 'sari@gmail.com', 234)\n",
      "(236, 'saritha', 'sari@gmail.com', 234)\n",
      "(237, 'saritha', 'sari@gmail.com', 234)\n",
      "(238, 'saritha', 'sari@gmail.com', 234)\n",
      "(239, 'saritha', 'sari@gmail.com', 234)\n",
      "(240, 'saritha', 'sari@gmail.com', 234)\n",
      "(241, 'saritha', 'sari@gmail.com', 234)\n"
     ]
    }
   ],
   "source": [
    "for i in c.execute(\"select * from student\"):\n",
    "    print(i)"
   ]
  },
  {
   "cell_type": "code",
   "execution_count": 99,
   "id": "8099468e",
   "metadata": {},
   "outputs": [],
   "source": [
    "data = c.execute(\"select *from student s left join address a on s.student_id = a.student_id\")"
   ]
  },
  {
   "cell_type": "code",
   "execution_count": 100,
   "id": "ab0f0a55",
   "metadata": {
    "scrolled": false
   },
   "outputs": [
    {
     "name": "stdout",
     "output_type": "stream",
     "text": [
      "(234, 'saritha', 'sari@gmail.com', 234, None, None, None, None, None)\n",
      "(234, 'saritha', 'sari@gmail.com', 234, None, None, None, None, None)\n",
      "(234, 'saritha', 'sari@gmail.com', 234, None, None, None, None, None)\n",
      "(234, 'saritha', 'sari@gmail.com', 234, None, None, None, None, None)\n",
      "(234, 'saritha', 'sari@gmail.com', 234, None, None, None, None, None)\n",
      "(234, 'saritha', 'sari@gmail.com', 234, None, None, None, None, None)\n",
      "(234, 'saritha', 'sari@gmail.com', 234, None, None, None, None, None)\n",
      "(234, 'saritha', 'sari@gmail.com', 234, None, None, None, None, None)\n",
      "(234, 'saritha', 'sari@gmail.com', 234, None, None, None, None, None)\n",
      "(234, 'saritha', 'sari@gmail.com', 234, None, None, None, None, None)\n",
      "(235, 'saritha', 'sari@gmail.com', 234, 235, 560034, 'whitefield', 'ineuron office', 887277202)\n",
      "(235, 'saritha', 'sari@gmail.com', 234, 235, 560034, 'whitefield', 'ineuron office', 887277202)\n",
      "(236, 'saritha', 'sari@gmail.com', 234, 236, 560034, 'whitefield', 'ineuron office', 887277202)\n",
      "(237, 'saritha', 'sari@gmail.com', 234, 237, 560034, 'whitefield', 'ineuron office', 887277202)\n",
      "(238, 'saritha', 'sari@gmail.com', 234, 238, 560034, 'whitefield', 'ineuron office', 887277202)\n",
      "(238, 'saritha', 'sari@gmail.com', 234, 238, 560034, 'whitefield', 'ineuron office', 887277202)\n",
      "(239, 'saritha', 'sari@gmail.com', 234, 239, 560034, 'whitefield', 'ineuron office', 887277202)\n",
      "(240, 'saritha', 'sari@gmail.com', 234, 240, 560034, 'whitefield', 'ineuron office', 887277202)\n",
      "(241, 'saritha', 'sari@gmail.com', 234, 241, 560034, 'whitefield', 'ineuron office', 887277202)\n"
     ]
    }
   ],
   "source": [
    "for i in data:\n",
    "    print(i)"
   ]
  },
  {
   "cell_type": "code",
   "execution_count": 101,
   "id": "78fc786d",
   "metadata": {},
   "outputs": [
    {
     "name": "stdout",
     "output_type": "stream",
     "text": [
      "(234, 'saritha', 'sari@gmail.com', 234)\n",
      "(234, 'saritha', 'sari@gmail.com', 234)\n",
      "(234, 'saritha', 'sari@gmail.com', 234)\n",
      "(234, 'saritha', 'sari@gmail.com', 234)\n",
      "(234, 'saritha', 'sari@gmail.com', 234)\n",
      "(234, 'saritha', 'sari@gmail.com', 234)\n",
      "(234, 'saritha', 'sari@gmail.com', 234)\n",
      "(234, 'saritha', 'sari@gmail.com', 234)\n",
      "(234, 'saritha', 'sari@gmail.com', 234)\n",
      "(234, 'saritha', 'sari@gmail.com', 234)\n",
      "(235, 'saritha', 'sari@gmail.com', 234)\n",
      "(236, 'saritha', 'sari@gmail.com', 234)\n",
      "(237, 'saritha', 'sari@gmail.com', 234)\n",
      "(238, 'saritha', 'sari@gmail.com', 234)\n",
      "(239, 'saritha', 'sari@gmail.com', 234)\n",
      "(240, 'saritha', 'sari@gmail.com', 234)\n",
      "(241, 'saritha', 'sari@gmail.com', 234)\n"
     ]
    }
   ],
   "source": [
    "for i in c.execute(\"select *from student\"):\n",
    "    print(i)"
   ]
  },
  {
   "cell_type": "code",
   "execution_count": 103,
   "id": "86d0d86b",
   "metadata": {},
   "outputs": [
    {
     "data": {
      "text/plain": [
       "<sqlite3.Cursor at 0x24ba8242a40>"
      ]
     },
     "execution_count": 103,
     "metadata": {},
     "output_type": "execute_result"
    }
   ],
   "source": [
    "c.execute(\"delete from student where student_id>240\")"
   ]
  },
  {
   "cell_type": "code",
   "execution_count": 106,
   "id": "06a3bea7",
   "metadata": {},
   "outputs": [
    {
     "name": "stdout",
     "output_type": "stream",
     "text": [
      "(234, 'saritha', 'sari@gmail.com', 234)\n",
      "(234, 'saritha', 'sari@gmail.com', 234)\n",
      "(234, 'saritha', 'sari@gmail.com', 234)\n",
      "(234, 'saritha', 'sari@gmail.com', 234)\n",
      "(234, 'saritha', 'sari@gmail.com', 234)\n",
      "(234, 'saritha', 'sari@gmail.com', 234)\n",
      "(234, 'saritha', 'sari@gmail.com', 234)\n",
      "(234, 'saritha', 'sari@gmail.com', 234)\n",
      "(234, 'saritha', 'sari@gmail.com', 234)\n",
      "(234, 'saritha', 'sari@gmail.com', 234)\n",
      "(235, 'saritha', 'sari@gmail.com', 234)\n",
      "(236, 'saritha', 'sari@gmail.com', 234)\n",
      "(237, 'saritha', 'sari@gmail.com', 234)\n",
      "(238, 'saritha', 'sari@gmail.com', 234)\n",
      "(239, 'saritha', 'sari@gmail.com', 234)\n",
      "(240, 'saritha', 'sari@gmail.com', 234)\n"
     ]
    }
   ],
   "source": [
    "for i in c.execute(\"select *from student\"):\n",
    "                  print(i)"
   ]
  },
  {
   "cell_type": "code",
   "execution_count": 107,
   "id": "4e250ca9",
   "metadata": {},
   "outputs": [],
   "source": [
    "data = c.execute('select *from student')"
   ]
  },
  {
   "cell_type": "code",
   "execution_count": 108,
   "id": "c7724562",
   "metadata": {},
   "outputs": [
    {
     "data": {
      "text/plain": [
       "[(234, 'saritha', 'sari@gmail.com', 234),\n",
       " (234, 'saritha', 'sari@gmail.com', 234),\n",
       " (234, 'saritha', 'sari@gmail.com', 234),\n",
       " (234, 'saritha', 'sari@gmail.com', 234),\n",
       " (234, 'saritha', 'sari@gmail.com', 234),\n",
       " (234, 'saritha', 'sari@gmail.com', 234),\n",
       " (234, 'saritha', 'sari@gmail.com', 234),\n",
       " (234, 'saritha', 'sari@gmail.com', 234),\n",
       " (234, 'saritha', 'sari@gmail.com', 234),\n",
       " (234, 'saritha', 'sari@gmail.com', 234),\n",
       " (235, 'saritha', 'sari@gmail.com', 234),\n",
       " (236, 'saritha', 'sari@gmail.com', 234),\n",
       " (237, 'saritha', 'sari@gmail.com', 234),\n",
       " (238, 'saritha', 'sari@gmail.com', 234),\n",
       " (239, 'saritha', 'sari@gmail.com', 234),\n",
       " (240, 'saritha', 'sari@gmail.com', 234)]"
      ]
     },
     "execution_count": 108,
     "metadata": {},
     "output_type": "execute_result"
    }
   ],
   "source": [
    "data.fetchall()"
   ]
  },
  {
   "cell_type": "code",
   "execution_count": 109,
   "id": "143cda7f",
   "metadata": {},
   "outputs": [
    {
     "data": {
      "text/plain": [
       "<sqlite3.Cursor at 0x24ba8242a40>"
      ]
     },
     "execution_count": 109,
     "metadata": {},
     "output_type": "execute_result"
    }
   ],
   "source": [
    "c.execute(\"update student set student_id= 1000 where student_id=236\")"
   ]
  },
  {
   "cell_type": "code",
   "execution_count": 113,
   "id": "abb46766",
   "metadata": {},
   "outputs": [],
   "source": [
    "data = c.execute('select *from student')"
   ]
  },
  {
   "cell_type": "code",
   "execution_count": 114,
   "id": "d2c14c0e",
   "metadata": {},
   "outputs": [
    {
     "data": {
      "text/plain": [
       "[(234, 'samarth', 'sari@gmail.com', 234),\n",
       " (234, 'samarth', 'sari@gmail.com', 234),\n",
       " (234, 'samarth', 'sari@gmail.com', 234),\n",
       " (234, 'samarth', 'sari@gmail.com', 234),\n",
       " (234, 'samarth', 'sari@gmail.com', 234),\n",
       " (234, 'samarth', 'sari@gmail.com', 234),\n",
       " (234, 'samarth', 'sari@gmail.com', 234),\n",
       " (234, 'samarth', 'sari@gmail.com', 234),\n",
       " (234, 'samarth', 'sari@gmail.com', 234),\n",
       " (234, 'samarth', 'sari@gmail.com', 234),\n",
       " (235, 'samarth', 'sari@gmail.com', 234),\n",
       " (1000, 'samarth', 'sari@gmail.com', 234),\n",
       " (237, 'samarth', 'sari@gmail.com', 234),\n",
       " (238, 'samarth', 'sari@gmail.com', 234),\n",
       " (239, 'samarth', 'sari@gmail.com', 234),\n",
       " (240, 'samarth', 'sari@gmail.com', 234)]"
      ]
     },
     "execution_count": 114,
     "metadata": {},
     "output_type": "execute_result"
    }
   ],
   "source": [
    "data.fetchall()"
   ]
  },
  {
   "cell_type": "code",
   "execution_count": 112,
   "id": "3bb030d8",
   "metadata": {},
   "outputs": [
    {
     "data": {
      "text/plain": [
       "<sqlite3.Cursor at 0x24ba8242a40>"
      ]
     },
     "execution_count": 112,
     "metadata": {},
     "output_type": "execute_result"
    }
   ],
   "source": [
    "c.execute(\"update student set student_name= 'samarth' where student_name= 'saritha'\")"
   ]
  },
  {
   "cell_type": "code",
   "execution_count": 115,
   "id": "95efbf16",
   "metadata": {},
   "outputs": [],
   "source": [
    "db.commit()"
   ]
  },
  {
   "cell_type": "code",
   "execution_count": 116,
   "id": "861f188e",
   "metadata": {},
   "outputs": [],
   "source": [
    "db.close()"
   ]
  },
  {
   "cell_type": "code",
   "execution_count": null,
   "id": "ec819a4e",
   "metadata": {},
   "outputs": [],
   "source": []
  }
 ],
 "metadata": {
  "kernelspec": {
   "display_name": "Python 3 (ipykernel)",
   "language": "python",
   "name": "python3"
  },
  "language_info": {
   "codemirror_mode": {
    "name": "ipython",
    "version": 3
   },
   "file_extension": ".py",
   "mimetype": "text/x-python",
   "name": "python",
   "nbconvert_exporter": "python",
   "pygments_lexer": "ipython3",
   "version": "3.9.7"
  }
 },
 "nbformat": 4,
 "nbformat_minor": 5
}
